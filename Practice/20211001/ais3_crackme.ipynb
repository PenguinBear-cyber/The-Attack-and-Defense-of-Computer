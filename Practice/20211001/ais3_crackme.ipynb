{
  "nbformat": 4,
  "nbformat_minor": 0,
  "metadata": {
    "colab": {
      "name": "Untitled0.ipynb",
      "provenance": [],
      "authorship_tag": "ABX9TyPLTt6+y03cKGgx5kwtQVGQ",
      "include_colab_link": true
    },
    "kernelspec": {
      "name": "python3",
      "display_name": "Python 3"
    },
    "language_info": {
      "name": "python"
    }
  },
  "cells": [
    {
      "cell_type": "markdown",
      "metadata": {
        "id": "view-in-github",
        "colab_type": "text"
      },
      "source": [
        "<a href=\"https://colab.research.google.com/github/PenguinBear-cyber/The-Attack-and-Defense-of-Computer/blob/main/Practice/20211001/ais3_crackme.ipynb\" target=\"_parent\"><img src=\"https://colab.research.google.com/assets/colab-badge.svg\" alt=\"Open In Colab\"/></a>"
      ]
    },
    {
      "cell_type": "code",
      "metadata": {
        "colab": {
          "base_uri": "https://localhost:8080/"
        },
        "id": "QfHSKma76dsJ",
        "outputId": "9ccaa2be-e0a1-4b05-8fcf-03d6efa0422c"
      },
      "source": [
        "!pip install angr"
      ],
      "execution_count": 1,
      "outputs": [
        {
          "output_type": "stream",
          "name": "stdout",
          "text": [
            "Collecting angr\n",
            "  Downloading angr-9.0.10159-py3-none-manylinux1_x86_64.whl (2.3 MB)\n",
            "\u001b[K     |████████████████████████████████| 2.3 MB 8.4 MB/s \n",
            "\u001b[?25hCollecting dpkt\n",
            "  Downloading dpkt-1.9.7.2-py3-none-any.whl (181 kB)\n",
            "\u001b[K     |████████████████████████████████| 181 kB 56.4 MB/s \n",
            "\u001b[?25hRequirement already satisfied: progressbar2 in /usr/local/lib/python3.7/dist-packages (from angr) (3.38.0)\n",
            "Requirement already satisfied: sortedcontainers in /usr/local/lib/python3.7/dist-packages (from angr) (2.4.0)\n",
            "Collecting cle==9.0.10159\n",
            "  Downloading cle-9.0.10159-py3-none-any.whl (147 kB)\n",
            "\u001b[K     |████████████████████████████████| 147 kB 34.6 MB/s \n",
            "\u001b[?25hCollecting capstone>=3.0.5rc2\n",
            "  Downloading capstone-4.0.2-py2.py3-none-manylinux1_x86_64.whl (2.1 MB)\n",
            "\u001b[K     |████████████████████████████████| 2.1 MB 16.7 MB/s \n",
            "\u001b[?25hCollecting pyvex==9.0.10159\n",
            "  Downloading pyvex-9.0.10159-py3-none-manylinux1_x86_64.whl (2.9 MB)\n",
            "\u001b[K     |████████████████████████████████| 2.9 MB 42.3 MB/s \n",
            "\u001b[?25hCollecting ailment==9.0.10159\n",
            "  Downloading ailment-9.0.10159-py3-none-any.whl (19 kB)\n",
            "Collecting GitPython\n",
            "  Downloading GitPython-3.1.24-py3-none-any.whl (180 kB)\n",
            "\u001b[K     |████████████████████████████████| 180 kB 53.0 MB/s \n",
            "\u001b[?25hCollecting mulpyplexer\n",
            "  Downloading mulpyplexer-0.09.tar.gz (2.8 kB)\n",
            "Collecting archinfo==9.0.10159\n",
            "  Downloading archinfo-9.0.10159-py3-none-any.whl (56 kB)\n",
            "\u001b[K     |████████████████████████████████| 56 kB 4.6 MB/s \n",
            "\u001b[?25hCollecting rpyc\n",
            "  Downloading rpyc-5.0.1-py3-none-any.whl (68 kB)\n",
            "\u001b[K     |████████████████████████████████| 68 kB 7.1 MB/s \n",
            "\u001b[?25hRequirement already satisfied: cffi>=1.14.0 in /usr/local/lib/python3.7/dist-packages (from angr) (1.14.6)\n",
            "Collecting claripy==9.0.10159\n",
            "  Downloading claripy-9.0.10159-py3-none-any.whl (154 kB)\n",
            "\u001b[K     |████████████████████████████████| 154 kB 65.2 MB/s \n",
            "\u001b[?25hCollecting unicorn==1.0.2rc4\n",
            "  Downloading unicorn-1.0.2rc4-py2.py3-none-manylinux1_x86_64.whl (8.1 MB)\n",
            "\u001b[K     |████████████████████████████████| 8.1 MB 14.7 MB/s \n",
            "\u001b[?25hCollecting itanium-demangler\n",
            "  Downloading itanium_demangler-1.0.tar.gz (6.9 kB)\n",
            "Requirement already satisfied: protobuf>=3.12.0 in /usr/local/lib/python3.7/dist-packages (from angr) (3.17.3)\n",
            "Collecting nampa\n",
            "  Downloading nampa-0.1.1-py2.py3-none-any.whl (9.2 kB)\n",
            "Requirement already satisfied: pycparser>=2.18 in /usr/local/lib/python3.7/dist-packages (from angr) (2.20)\n",
            "Collecting CppHeaderParser\n",
            "  Downloading CppHeaderParser-2.7.4.tar.gz (54 kB)\n",
            "\u001b[K     |████████████████████████████████| 54 kB 2.7 MB/s \n",
            "\u001b[?25hRequirement already satisfied: psutil in /usr/local/lib/python3.7/dist-packages (from angr) (5.4.8)\n",
            "Requirement already satisfied: networkx>=2.0 in /usr/local/lib/python3.7/dist-packages (from angr) (2.6.3)\n",
            "Requirement already satisfied: cachetools in /usr/local/lib/python3.7/dist-packages (from angr) (4.2.4)\n",
            "Requirement already satisfied: decorator in /usr/local/lib/python3.7/dist-packages (from claripy==9.0.10159->angr) (4.4.2)\n",
            "Requirement already satisfied: future in /usr/local/lib/python3.7/dist-packages (from claripy==9.0.10159->angr) (0.16.0)\n",
            "Collecting pysmt>=0.9.1.dev119\n",
            "  Downloading PySMT-0.9.1.dev139-py2.py3-none-any.whl (317 kB)\n",
            "\u001b[K     |████████████████████████████████| 317 kB 55.2 MB/s \n",
            "\u001b[?25hCollecting z3-solver>=4.8.5.0\n",
            "  Downloading z3_solver-4.8.12.0-py2.py3-none-manylinux1_x86_64.whl (33.0 MB)\n",
            "\u001b[K     |████████████████████████████████| 33.0 MB 18 kB/s \n",
            "\u001b[?25hCollecting pyelftools>=0.27\n",
            "  Downloading pyelftools-0.27-py2.py3-none-any.whl (151 kB)\n",
            "\u001b[K     |████████████████████████████████| 151 kB 55.8 MB/s \n",
            "\u001b[?25hCollecting pefile\n",
            "  Downloading pefile-2021.9.3.tar.gz (72 kB)\n",
            "\u001b[K     |████████████████████████████████| 72 kB 608 kB/s \n",
            "\u001b[?25hCollecting bitstring\n",
            "  Downloading bitstring-3.1.9-py3-none-any.whl (38 kB)\n",
            "Requirement already satisfied: six>=1.9 in /usr/local/lib/python3.7/dist-packages (from protobuf>=3.12.0->angr) (1.15.0)\n",
            "Collecting ply\n",
            "  Downloading ply-3.11-py2.py3-none-any.whl (49 kB)\n",
            "\u001b[K     |████████████████████████████████| 49 kB 5.0 MB/s \n",
            "\u001b[?25hRequirement already satisfied: typing-extensions>=3.7.4.3 in /usr/local/lib/python3.7/dist-packages (from GitPython->angr) (3.7.4.3)\n",
            "Collecting gitdb<5,>=4.0.1\n",
            "  Downloading gitdb-4.0.7-py3-none-any.whl (63 kB)\n",
            "\u001b[K     |████████████████████████████████| 63 kB 70 kB/s \n",
            "\u001b[?25hCollecting smmap<5,>=3.0.1\n",
            "  Downloading smmap-4.0.0-py2.py3-none-any.whl (24 kB)\n",
            "Requirement already satisfied: python-utils>=2.3.0 in /usr/local/lib/python3.7/dist-packages (from progressbar2->angr) (2.5.6)\n",
            "Collecting plumbum\n",
            "  Downloading plumbum-1.7.0-py2.py3-none-any.whl (116 kB)\n",
            "\u001b[K     |████████████████████████████████| 116 kB 70.0 MB/s \n",
            "\u001b[?25hBuilding wheels for collected packages: CppHeaderParser, itanium-demangler, mulpyplexer, pefile\n",
            "  Building wheel for CppHeaderParser (setup.py) ... \u001b[?25l\u001b[?25hdone\n",
            "  Created wheel for CppHeaderParser: filename=CppHeaderParser-2.7.4-py3-none-any.whl size=44977 sha256=2bf579cf53e40edccaf79c2cd8eb84298f6efc2eab4e4d269825ab2f0b50a1ad\n",
            "  Stored in directory: /root/.cache/pip/wheels/84/c8/fe/59e29c5a1086aa96a044d3bf6aa7c3facff5fdf47999bbb04d\n",
            "  Building wheel for itanium-demangler (setup.py) ... \u001b[?25l\u001b[?25hdone\n",
            "  Created wheel for itanium-demangler: filename=itanium_demangler-1.0-py3-none-any.whl size=7288 sha256=b59a81ad39f6540a588da2895e966278c777856cba00999a4271500f82874405\n",
            "  Stored in directory: /root/.cache/pip/wheels/df/c5/38/68a43dd42852dc0de07bd8e26dca0086a0a5fb9ca9f209eeea\n",
            "  Building wheel for mulpyplexer (setup.py) ... \u001b[?25l\u001b[?25hdone\n",
            "  Created wheel for mulpyplexer: filename=mulpyplexer-0.9-py3-none-any.whl size=3802 sha256=cee7417025eb3e18e7644f41352860199a368f610c0800ac1c8945cdd11ad373\n",
            "  Stored in directory: /root/.cache/pip/wheels/fe/f1/00/f3092247fe5e4cc0098e2b5d314e54636edc2d6f92a8d8d6d1\n",
            "  Building wheel for pefile (setup.py) ... \u001b[?25l\u001b[?25hdone\n",
            "  Created wheel for pefile: filename=pefile-2021.9.3-py3-none-any.whl size=68844 sha256=c740a450640efd885d81b898f187a0901e10dbc65be31059b4ae77b06dffb809\n",
            "  Stored in directory: /root/.cache/pip/wheels/50/be/9b/d19a6151b9c6e303f823faedf03193d7e90dac4009a0bdafeb\n",
            "Successfully built CppHeaderParser itanium-demangler mulpyplexer pefile\n",
            "Installing collected packages: smmap, bitstring, archinfo, z3-solver, pyvex, pysmt, pyelftools, ply, plumbum, pefile, gitdb, unicorn, rpyc, nampa, mulpyplexer, itanium-demangler, GitPython, dpkt, CppHeaderParser, cle, claripy, capstone, ailment, angr\n",
            "Successfully installed CppHeaderParser-2.7.4 GitPython-3.1.24 ailment-9.0.10159 angr-9.0.10159 archinfo-9.0.10159 bitstring-3.1.9 capstone-4.0.2 claripy-9.0.10159 cle-9.0.10159 dpkt-1.9.7.2 gitdb-4.0.7 itanium-demangler-1.0 mulpyplexer-0.9 nampa-0.1.1 pefile-2021.9.3 plumbum-1.7.0 ply-3.11 pyelftools-0.27 pysmt-0.9.1.dev139 pyvex-9.0.10159 rpyc-5.0.1 smmap-4.0.0 unicorn-1.0.2rc4 z3-solver-4.8.12.0\n"
          ]
        }
      ]
    },
    {
      "cell_type": "code",
      "metadata": {
        "colab": {
          "base_uri": "https://localhost:8080/"
        },
        "id": "TBsd_zMe88LM",
        "outputId": "65659df0-2294-4c88-ecae-bbf665e9ae81"
      },
      "source": [
        "!git clone https://github.com/angr/angr-doc.git"
      ],
      "execution_count": 3,
      "outputs": [
        {
          "output_type": "stream",
          "name": "stdout",
          "text": [
            "Cloning into 'angr-doc'...\n",
            "remote: Enumerating objects: 6127, done.\u001b[K\n",
            "remote: Counting objects: 100% (482/482), done.\u001b[K\n",
            "remote: Compressing objects: 100% (296/296), done.\u001b[K\n",
            "remote: Total 6127 (delta 316), reused 317 (delta 186), pack-reused 5645\u001b[K\n",
            "Receiving objects: 100% (6127/6127), 7.44 MiB | 13.61 MiB/s, done.\n",
            "Resolving deltas: 100% (3815/3815), done.\n"
          ]
        }
      ]
    },
    {
      "cell_type": "code",
      "metadata": {
        "colab": {
          "base_uri": "https://localhost:8080/"
        },
        "id": "tuvXHRNh_nuA",
        "outputId": "9dce4f8e-f7d8-4f92-a229-3baaaed7b6b8"
      },
      "source": [
        "ls"
      ],
      "execution_count": 13,
      "outputs": [
        {
          "output_type": "stream",
          "name": "stdout",
          "text": [
            "\u001b[0m\u001b[01;32mais3_crackme\u001b[0m*  \u001b[01;32msolve.py\u001b[0m*\n"
          ]
        }
      ]
    },
    {
      "cell_type": "code",
      "metadata": {
        "colab": {
          "base_uri": "https://localhost:8080/"
        },
        "id": "BRV3ZdBwBQ6M",
        "outputId": "4e5057c1-e39f-4744-e588-eb470bd13095"
      },
      "source": [
        "cat solve.py"
      ],
      "execution_count": 14,
      "outputs": [
        {
          "output_type": "stream",
          "name": "stdout",
          "text": [
            "#!/usr/bin/env python\n",
            "\n",
            "\n",
            "'''\n",
            "ais3_crackme has been developed by Tyler Nighswander (tylerni7) for ais3.\n",
            "\n",
            "It is an easy crackme challenge. It checks the command line argument.\n",
            "'''\n",
            "\n",
            "import angr\n",
            "import claripy\n",
            "\n",
            "\n",
            "def main():\n",
            "    project = angr.Project(\"./ais3_crackme\")\n",
            "\n",
            "    #create an initial state with a symbolic bit vector as argv1\n",
            "    argv1 = claripy.BVS(\"argv1\",100*8) #since we do not the length now, we just put 100 bytes\n",
            "    initial_state = project.factory.entry_state(args=[\"./crackme1\",argv1])\n",
            "\n",
            "    #create a path group using the created initial state \n",
            "    sm = project.factory.simulation_manager(initial_state)\n",
            "\n",
            "    #symbolically execute the program until we reach the wanted value of the instruction pointer\n",
            "    sm.explore(find=0x400602) #at this instruction the binary will print(the \"correct\" message)\n",
            "\n",
            "    found = sm.found[0]\n",
            "    #ask to the symbolic solver to get the value of argv1 in the reached state as a string\n",
            "    solution = found.solver.eval(argv1, cast_to=bytes)\n",
            "\n",
            "    print(repr(solution))\n",
            "    solution = solution[:solution.find(b\"\\x00\")]\n",
            "    print(solution)\n",
            "    return solution\n",
            "\n",
            "def test():\n",
            "    res = main()\n",
            "    assert res == b\"ais3{I_tak3_g00d_n0t3s}\"\n",
            "\n",
            "\n",
            "if __name__ == '__main__':\n",
            "    print(repr(main()))\n",
            "\n"
          ]
        }
      ]
    },
    {
      "cell_type": "code",
      "metadata": {
        "colab": {
          "base_uri": "https://localhost:8080/"
        },
        "id": "8iSQhNhrBiLX",
        "outputId": "4ebf9722-d8e4-4173-fc3e-911540fb21bc"
      },
      "source": [
        "!python3 solve.py"
      ],
      "execution_count": 15,
      "outputs": [
        {
          "output_type": "stream",
          "name": "stdout",
          "text": [
            "/usr/local/lib/python3.7/dist-packages/Cython/Compiler/Main.py:369: FutureWarning: Cython directive 'language_level' not set, using 2 for now (Py2). This will change in a later release! File: /usr/local/lib/python3.7/dist-packages/pysmt/smtlib/parser/parser.py\n",
            "  tree = Parsing.p_module(s, pxd, full_module_name)\n",
            "b'ais3{I_tak3_g00d_n0t3s}\\x00\\x00\\x00\\x00\\x00\\x00\\x00\\x00\\x00\\x00\\x00\\x00\\x00\\x00\\x00\\x00\\x00\\x00\\x00\\x00\\x00\\x00\\x00\\x00\\x00\\x00\\x00\\x00\\x00\\x00\\x00\\x00\\x00\\x00\\x00\\x00\\x00\\x00\\x00\\x00\\x00\\x00\\x00\\x00\\x00\\x00\\x00\\x00\\x00\\x00\\x00\\x00\\x00\\x00\\x00\\x00\\x00\\x00\\x00\\x00\\x00\\x00\\x00\\x00\\x00\\x00\\x00\\x00\\x00\\x00\\x00\\x00\\x00\\x00\\x00\\x00\\x00'\n",
            "b'ais3{I_tak3_g00d_n0t3s}'\n",
            "b'ais3{I_tak3_g00d_n0t3s}'\n"
          ]
        }
      ]
    },
    {
      "cell_type": "code",
      "metadata": {
        "colab": {
          "base_uri": "https://localhost:8080/"
        },
        "id": "VTwc39df__zk",
        "outputId": "ef3fd025-47ee-4ddf-8075-aa061d97921a"
      },
      "source": [
        "cd ais3_crackme"
      ],
      "execution_count": 12,
      "outputs": [
        {
          "output_type": "stream",
          "name": "stdout",
          "text": [
            "/content/angr-doc/examples/ais3_crackme\n"
          ]
        }
      ]
    },
    {
      "cell_type": "code",
      "metadata": {
        "colab": {
          "base_uri": "https://localhost:8080/"
        },
        "id": "D6WrP3UlCb7v",
        "outputId": "3e23a4d6-2409-4aa8-f350-a30a575dc29d"
      },
      "source": [
        "from z3 import *\n",
        "\n",
        "enc = [0xca, 0x70, 0x93, 0xc8, 0x06, 0x54, 0xd2, 0xd5, 0xda, 0x6a, 0xd1, 0x59, 0xde, 0x45, 0xf9, 0xb5, 0xa6, 0x87, 0x19, 0xa5, 0x56, 0x6e, 0x63]\n",
        "N = len(enc)\n",
        "\n",
        "# (((a1[i] ^ i) << ((i ^ 9) & 3)) | ((a1[i] ^ i) >> )8 - ((i^ 9) & 3)))) + 8 == 0xca\n",
        "\n",
        "x = [BitVec(f'x{i}',8) for i in range(N)]\n",
        "s = Solver()\n",
        "\n",
        "for i in range(N):\n",
        "  s.add((((x[i] ^ i) << ((i ^ 9) & 3)) | ((x[i] ^ i) >> (8 - ((i ^ 9) & 3)))) + 8 == enc[i])\n",
        "\n",
        "print(s.check())\n",
        "\n",
        "m = s.model()\n",
        "\n",
        "for i in range(N):\n",
        "  print(chr(m[x[i]].as_long()), end=\"\")"
      ],
      "execution_count": 16,
      "outputs": [
        {
          "output_type": "stream",
          "name": "stdout",
          "text": [
            "sat\n",
            "ais3{I_tak3_g00d_n0t3s}"
          ]
        }
      ]
    }
  ]
}